{
 "cells": [
  {
   "cell_type": "markdown",
   "metadata": {
    "papermill": {
     "duration": 0.005813,
     "end_time": "2022-08-01T05:44:53.262024",
     "exception": false,
     "start_time": "2022-08-01T05:44:53.256211",
     "status": "completed"
    },
    "tags": []
   },
   "source": [
    "# Facial Emotions Detection using Convolutional Neural Network(CNN)"
   ]
  },
  {
   "cell_type": "markdown",
   "metadata": {
    "papermill": {
     "duration": 0.004169,
     "end_time": "2022-08-01T05:44:53.270985",
     "exception": false,
     "start_time": "2022-08-01T05:44:53.266816",
     "status": "completed"
    },
    "tags": []
   },
   "source": [
    "# 1.Objectives\n",
    "\n",
    "1. To apply Convolutional neural networks (CNN) for facial expression/emotions recognition.\n",
    "\n",
    "2. To correctly classify each facial image into one of the seven facial emotion categories:\n",
    "    **anger, disgust, fear, happiness, sadness, surprise, and neutral.**\n",
    "    \n",
    "3. The training set consists of 28,709 examples and the public test set consists of 7,178 examples."
   ]
  },
  {
   "cell_type": "markdown",
   "metadata": {
    "papermill": {
     "duration": 0.004183,
     "end_time": "2022-08-01T05:44:53.280030",
     "exception": false,
     "start_time": "2022-08-01T05:44:53.275847",
     "status": "completed"
    },
    "tags": []
   },
   "source": [
    "\n",
    "# 2.Import Python modules"
   ]
  },
  {
   "cell_type": "code",
   "execution_count": 1,
   "metadata": {
    "execution": {
     "iopub.execute_input": "2022-08-01T05:44:53.291694Z",
     "iopub.status.busy": "2022-08-01T05:44:53.290609Z",
     "iopub.status.idle": "2022-08-01T05:45:01.117277Z",
     "shell.execute_reply": "2022-08-01T05:45:01.116048Z"
    },
    "papermill": {
     "duration": 7.835583,
     "end_time": "2022-08-01T05:45:01.120210",
     "exception": false,
     "start_time": "2022-08-01T05:44:53.284627",
     "status": "completed"
    },
    "tags": []
   },
   "outputs": [],
   "source": [
    "import pandas as pd\n",
    "import matplotlib.pyplot as plt\n",
    "import numpy as np\n",
    "import seaborn as sns\n",
    "import pathlib\n",
    "\n",
    "from sklearn.preprocessing import StandardScaler\n",
    "\n",
    "import cv2\n",
    "import tensorflow as tf\n",
    "# from tensorflow import keras\n",
    "from tensorflow.keras.models import Sequential\n",
    "from tensorflow.keras.layers import Conv2D, MaxPooling2D, Dense, Dropout, Flatten\n",
    "from tensorflow.keras.preprocessing.image import load_img\n",
    "from tensorflow.keras.preprocessing.image import img_to_array\n",
    "from tensorflow.keras.preprocessing.image import ImageDataGenerator"
   ]
  },
  {
   "cell_type": "markdown",
   "metadata": {
    "papermill": {
     "duration": 0.004204,
     "end_time": "2022-08-01T05:45:01.129096",
     "exception": false,
     "start_time": "2022-08-01T05:45:01.124892",
     "status": "completed"
    },
    "tags": []
   },
   "source": [
    "# 3. Load the dataset"
   ]
  },
  {
   "cell_type": "code",
   "execution_count": 2,
   "metadata": {
    "execution": {
     "iopub.execute_input": "2022-08-01T05:45:01.140164Z",
     "iopub.status.busy": "2022-08-01T05:45:01.139528Z",
     "iopub.status.idle": "2022-08-01T05:45:01.146067Z",
     "shell.execute_reply": "2022-08-01T05:45:01.144593Z"
    },
    "papermill": {
     "duration": 0.016482,
     "end_time": "2022-08-01T05:45:01.150152",
     "exception": false,
     "start_time": "2022-08-01T05:45:01.133670",
     "status": "completed"
    },
    "tags": []
   },
   "outputs": [
    {
     "name": "stdout",
     "output_type": "stream",
     "text": [
      "/home/akhilesh/Desktop/archive/train\n",
      "/home/akhilesh/Desktop/archive/test\n"
     ]
    }
   ],
   "source": [
    "train_data_dir = pathlib.Path(\"/home/akhilesh/Desktop/archive/train\")\n",
    "print(train_data_dir)\n",
    "\n",
    "test_data_dir = pathlib.Path(\"/home/akhilesh/Desktop/archive/test\")\n",
    "print(test_data_dir)"
   ]
  },
  {
   "cell_type": "code",
   "execution_count": 3,
   "metadata": {
    "execution": {
     "iopub.execute_input": "2022-08-01T05:45:01.161108Z",
     "iopub.status.busy": "2022-08-01T05:45:01.160721Z",
     "iopub.status.idle": "2022-08-01T05:45:25.626295Z",
     "shell.execute_reply": "2022-08-01T05:45:25.624435Z"
    },
    "papermill": {
     "duration": 24.474094,
     "end_time": "2022-08-01T05:45:25.628837",
     "exception": false,
     "start_time": "2022-08-01T05:45:01.154743",
     "status": "completed"
    },
    "tags": []
   },
   "outputs": [
    {
     "name": "stdout",
     "output_type": "stream",
     "text": [
      "Found 28709 images belonging to 7 classes.\n",
      "Found 7178 images belonging to 7 classes.\n"
     ]
    }
   ],
   "source": [
    "# Initialize image data generator with rescaling\n",
    "train_data_gen = ImageDataGenerator(rescale=1./255)\n",
    "validation_data_gen = ImageDataGenerator(rescale=1./255)\n",
    "\n",
    "# Preprocess all test images\n",
    "train_generator = train_data_gen.flow_from_directory(\n",
    "        '/home/akhilesh/Desktop/archive/train',\n",
    "        target_size=(48, 48),\n",
    "        batch_size=64,\n",
    "        color_mode=\"grayscale\",\n",
    "        class_mode='categorical')\n",
    "\n",
    "# Preprocess all train images\n",
    "validation_generator = validation_data_gen.flow_from_directory(\n",
    "        '/home/akhilesh/Desktop/archive/test',\n",
    "        target_size=(48, 48),\n",
    "        batch_size=64,\n",
    "        color_mode=\"grayscale\",\n",
    "        class_mode='categorical')"
   ]
  },
  {
   "cell_type": "markdown",
   "metadata": {
    "papermill": {
     "duration": 0.004671,
     "end_time": "2022-08-01T05:45:25.638514",
     "exception": false,
     "start_time": "2022-08-01T05:45:25.633843",
     "status": "completed"
    },
    "tags": []
   },
   "source": [
    "# 4.Build convolutional neural network"
   ]
  },
  {
   "cell_type": "markdown",
   "metadata": {
    "papermill": {
     "duration": 0.004171,
     "end_time": "2022-08-01T05:45:25.647353",
     "exception": false,
     "start_time": "2022-08-01T05:45:25.643182",
     "status": "completed"
    },
    "tags": []
   },
   "source": [
    "**CNN Architecture:**\n",
    "\n",
    "    Conv -> Activation  \n",
    "    Conv -> Activation \n",
    "    MaxPooling\n",
    "    Dropout\n",
    "    \n",
    "    Conv -> Activation\n",
    "    MaxPooling\n",
    "    Conv -> Activation\n",
    "    Dropout\n",
    "    \n",
    "    Flatten\n",
    "    Dense ->  Activation\n",
    "    Dropout\n",
    "    Dense ->  Activation\n",
    "    Output layer\n"
   ]
  },
  {
   "cell_type": "code",
   "execution_count": 4,
   "metadata": {
    "execution": {
     "iopub.execute_input": "2022-08-01T05:45:25.658390Z",
     "iopub.status.busy": "2022-08-01T05:45:25.657357Z",
     "iopub.status.idle": "2022-08-01T06:34:11.983956Z",
     "shell.execute_reply": "2022-08-01T06:34:11.982587Z"
    },
    "papermill": {
     "duration": 2926.335577,
     "end_time": "2022-08-01T06:34:11.987370",
     "exception": false,
     "start_time": "2022-08-01T05:45:25.651793",
     "status": "completed"
    },
    "tags": []
   },
   "outputs": [
    {
     "name": "stdout",
     "output_type": "stream",
     "text": [
      "Model: \"sequential\"\n",
      "_________________________________________________________________\n",
      "Layer (type)                 Output Shape              Param #   \n",
      "=================================================================\n",
      "conv2d (Conv2D)              (None, 46, 46, 32)        320       \n",
      "_________________________________________________________________\n",
      "conv2d_1 (Conv2D)            (None, 44, 44, 64)        18496     \n",
      "_________________________________________________________________\n",
      "max_pooling2d (MaxPooling2D) (None, 22, 22, 64)        0         \n",
      "_________________________________________________________________\n",
      "dropout (Dropout)            (None, 22, 22, 64)        0         \n",
      "_________________________________________________________________\n",
      "conv2d_2 (Conv2D)            (None, 20, 20, 128)       73856     \n",
      "_________________________________________________________________\n",
      "max_pooling2d_1 (MaxPooling2 (None, 10, 10, 128)       0         \n",
      "_________________________________________________________________\n",
      "conv2d_3 (Conv2D)            (None, 8, 8, 128)         147584    \n",
      "_________________________________________________________________\n",
      "max_pooling2d_2 (MaxPooling2 (None, 4, 4, 128)         0         \n",
      "_________________________________________________________________\n",
      "dropout_1 (Dropout)          (None, 4, 4, 128)         0         \n",
      "_________________________________________________________________\n",
      "flatten (Flatten)            (None, 2048)              0         \n",
      "_________________________________________________________________\n",
      "dense (Dense)                (None, 1024)              2098176   \n",
      "_________________________________________________________________\n",
      "dropout_2 (Dropout)          (None, 1024)              0         \n",
      "_________________________________________________________________\n",
      "dense_1 (Dense)              (None, 7)                 7175      \n",
      "=================================================================\n",
      "Total params: 2,345,607\n",
      "Trainable params: 2,345,607\n",
      "Non-trainable params: 0\n",
      "_________________________________________________________________\n",
      "Epoch 1/15\n",
      "448/448 [==============================] - 1089s 2s/step - loss: 1.7277 - accuracy: 0.2976 - val_loss: 1.5189 - val_accuracy: 0.4088\n",
      "Epoch 2/15\n",
      "448/448 [==============================] - 348s 777ms/step - loss: 1.4241 - accuracy: 0.4530 - val_loss: 1.2994 - val_accuracy: 0.5033\n",
      "Epoch 3/15\n",
      "448/448 [==============================] - 347s 776ms/step - loss: 1.2784 - accuracy: 0.5120 - val_loss: 1.2037 - val_accuracy: 0.5370\n",
      "Epoch 4/15\n",
      "448/448 [==============================] - 387s 864ms/step - loss: 1.1977 - accuracy: 0.5460 - val_loss: 1.1481 - val_accuracy: 0.5625\n",
      "Epoch 5/15\n",
      "448/448 [==============================] - 498s 1s/step - loss: 1.1399 - accuracy: 0.5677 - val_loss: 1.1195 - val_accuracy: 0.5751\n",
      "Epoch 6/15\n",
      "448/448 [==============================] - 640s 1s/step - loss: 1.1006 - accuracy: 0.5810 - val_loss: 1.1254 - val_accuracy: 0.5756\n",
      "Epoch 7/15\n",
      "448/448 [==============================] - 353s 788ms/step - loss: 1.0528 - accuracy: 0.6009 - val_loss: 1.1023 - val_accuracy: 0.5816\n",
      "Epoch 8/15\n",
      "448/448 [==============================] - 348s 778ms/step - loss: 1.0134 - accuracy: 0.6180 - val_loss: 1.0836 - val_accuracy: 0.5968\n",
      "Epoch 9/15\n",
      "448/448 [==============================] - 350s 782ms/step - loss: 0.9776 - accuracy: 0.6311 - val_loss: 1.0703 - val_accuracy: 0.5988\n",
      "Epoch 10/15\n",
      "448/448 [==============================] - 337s 753ms/step - loss: 0.9353 - accuracy: 0.6487 - val_loss: 1.0617 - val_accuracy: 0.6042\n",
      "Epoch 11/15\n",
      "448/448 [==============================] - 356s 795ms/step - loss: 0.9090 - accuracy: 0.6568 - val_loss: 1.0629 - val_accuracy: 0.6031\n",
      "Epoch 12/15\n",
      "448/448 [==============================] - 324s 723ms/step - loss: 0.8743 - accuracy: 0.6746 - val_loss: 1.0746 - val_accuracy: 0.6046\n",
      "Epoch 13/15\n",
      "448/448 [==============================] - 295s 658ms/step - loss: 0.8491 - accuracy: 0.6819 - val_loss: 1.0551 - val_accuracy: 0.6124\n",
      "Epoch 14/15\n",
      "448/448 [==============================] - 291s 650ms/step - loss: 0.8124 - accuracy: 0.6972 - val_loss: 1.0567 - val_accuracy: 0.6112\n",
      "Epoch 15/15\n",
      "448/448 [==============================] - 291s 650ms/step - loss: 0.7839 - accuracy: 0.7093 - val_loss: 1.0761 - val_accuracy: 0.6115\n"
     ]
    }
   ],
   "source": [
    "# create model structure\n",
    "model = Sequential()\n",
    "model.add(Conv2D(32, kernel_size=(3, 3), activation='relu', input_shape=(48, 48, 1))),\n",
    "model.add(Conv2D(64, kernel_size=(3, 3), activation='relu')),\n",
    "model.add(MaxPooling2D(pool_size=(2, 2))),\n",
    "model.add(Dropout(0.25)),\n",
    "\n",
    "model.add(Conv2D(128, kernel_size=(3, 3), activation='relu')),\n",
    "model.add(MaxPooling2D(pool_size=(2, 2))),\n",
    "model.add(Conv2D(128, kernel_size=(3, 3), activation='relu')),\n",
    "model.add(MaxPooling2D(pool_size=(2, 2))),\n",
    "model.add(Dropout(0.25)),\n",
    "\n",
    "model.add(Flatten()),\n",
    "model.add(Dense(1024, activation='relu')),\n",
    "model.add(Dropout(0.5)),\n",
    "model.add(Dense(7, activation='softmax'))\n",
    "\n",
    "model.compile(optimizer='adam',\n",
    "              loss=\"categorical_crossentropy\",\n",
    "              metrics=['accuracy'])\n",
    "\n",
    "model.summary()\n",
    "# Train the neural network/model\n",
    "model_info = model.fit_generator(\n",
    "        train_generator,\n",
    "        steps_per_epoch=28709 // 64,\n",
    "        epochs=15,\n",
    "        validation_data=validation_generator,\n",
    "        validation_steps=7178 // 64)"
   ]
  },
  {
   "cell_type": "markdown",
   "metadata": {
    "papermill": {
     "duration": 0.433437,
     "end_time": "2022-08-01T06:34:12.855478",
     "exception": false,
     "start_time": "2022-08-01T06:34:12.422041",
     "status": "completed"
    },
    "tags": []
   },
   "source": [
    "# 5.Visualize Training Performance"
   ]
  },
  {
   "cell_type": "code",
   "execution_count": 7,
   "metadata": {
    "execution": {
     "iopub.execute_input": "2022-08-01T06:34:13.780069Z",
     "iopub.status.busy": "2022-08-01T06:34:13.779617Z",
     "iopub.status.idle": "2022-08-01T06:34:13.786319Z",
     "shell.execute_reply": "2022-08-01T06:34:13.785155Z"
    },
    "papermill": {
     "duration": 0.457851,
     "end_time": "2022-08-01T06:34:13.788672",
     "exception": false,
     "start_time": "2022-08-01T06:34:13.330821",
     "status": "completed"
    },
    "tags": []
   },
   "outputs": [
    {
     "name": "stdout",
     "output_type": "stream",
     "text": [
      "dict_keys(['loss', 'accuracy', 'val_loss', 'val_accuracy'])\n"
     ]
    }
   ],
   "source": [
    "print(model_info.history.keys())"
   ]
  },
  {
   "cell_type": "code",
   "execution_count": 8,
   "metadata": {
    "execution": {
     "iopub.execute_input": "2022-08-01T06:34:14.691793Z",
     "iopub.status.busy": "2022-08-01T06:34:14.690954Z",
     "iopub.status.idle": "2022-08-01T06:34:15.104994Z",
     "shell.execute_reply": "2022-08-01T06:34:15.103815Z"
    },
    "papermill": {
     "duration": 0.834969,
     "end_time": "2022-08-01T06:34:15.107717",
     "exception": false,
     "start_time": "2022-08-01T06:34:14.272748",
     "status": "completed"
    },
    "tags": []
   },
   "outputs": [
    {
     "data": {
      "image/png": "[encoded data removed]",
      "text/plain": [
       "<Figure size 1296x432 with 2 Axes>"
      ]
     },
     "metadata": {
      "needs_background": "light"
     },
     "output_type": "display_data"
    }
   ],
   "source": [
    "import matplotlib.pyplot as plt\n",
    "fig, axes = plt.subplots(1,2, figsize=(18, 6))\n",
    "# Plot training & validation accuracy values\n",
    "axes[0].plot(model_info.history['accuracy'])\n",
    "axes[0].plot(model_info.history['val_accuracy'])\n",
    "axes[0].set_title('Model accuracy')\n",
    "axes[0].set_ylabel('Accuracy')\n",
    "axes[0].set_xlabel('Epoch')\n",
    "axes[0].legend(['Train', 'Validation'], loc='upper left')\n",
    "\n",
    "# Plot training & validation loss values\n",
    "axes[1].plot(model_info.history['loss'])\n",
    "axes[1].plot(model_info.history['val_loss'])\n",
    "axes[1].set_title('Model loss')\n",
    "axes[1].set_ylabel('Loss')\n",
    "axes[1].set_xlabel('Epoch')\n",
    "axes[1].legend(['Train', 'Validation'], loc='upper left')\n",
    "plt.show()"
   ]
  },
  {
   "cell_type": "markdown",
   "metadata": {
    "papermill": {
     "duration": 0.414585,
     "end_time": "2022-08-01T06:34:15.942415",
     "exception": false,
     "start_time": "2022-08-01T06:34:15.527830",
     "status": "completed"
    },
    "tags": []
   },
   "source": [
    "# 6.Saving the model"
   ]
  },
  {
   "cell_type": "code",
   "execution_count": 20,
   "metadata": {
    "execution": {
     "iopub.execute_input": "2022-08-01T06:34:16.843351Z",
     "iopub.status.busy": "2022-08-01T06:34:16.842930Z",
     "iopub.status.idle": "2022-08-01T06:34:16.925363Z",
     "shell.execute_reply": "2022-08-01T06:34:16.924409Z"
    },
    "papermill": {
     "duration": 0.562671,
     "end_time": "2022-08-01T06:34:16.928015",
     "exception": false,
     "start_time": "2022-08-01T06:34:16.365344",
     "status": "completed"
    },
    "tags": []
   },
   "outputs": [],
   "source": [
    "model.save('facial_model.h5')"
   ]
  },
  {
   "cell_type": "markdown",
   "metadata": {
    "papermill": {
     "duration": 0.417009,
     "end_time": "2022-08-01T06:34:17.763414",
     "exception": false,
     "start_time": "2022-08-01T06:34:17.346405",
     "status": "completed"
    },
    "tags": []
   },
   "source": [
    "# 7. Test/Predict Image"
   ]
  },
  {
   "cell_type": "code",
   "execution_count": 10,
   "metadata": {
    "execution": {
     "iopub.execute_input": "2022-08-01T06:34:18.658630Z",
     "iopub.status.busy": "2022-08-01T06:34:18.658205Z",
     "iopub.status.idle": "2022-08-01T06:34:18.834398Z",
     "shell.execute_reply": "2022-08-01T06:34:18.833238Z"
    },
    "papermill": {
     "duration": 0.65634,
     "end_time": "2022-08-01T06:34:18.836835",
     "exception": false,
     "start_time": "2022-08-01T06:34:18.180495",
     "status": "completed"
    },
    "tags": []
   },
   "outputs": [
    {
     "name": "stdout",
     "output_type": "stream",
     "text": [
      "(48, 48, 1)\n"
     ]
    }
   ],
   "source": [
    "from tensorflow.keras.preprocessing import image\n",
    "img_path='/home/akhilesh/Desktop/PrivateTest_9877914.jpg'\n",
    "test_image=image.load_img(img_path,target_size=(48,48,1),color_mode='grayscale')\n",
    "test_image=image.img_to_array(test_image)\n",
    "print(test_image.shape)\n",
    "# plt.imshow(test_image)\n",
    "plt.show()"
   ]
  },
  {
   "cell_type": "code",
   "execution_count": 11,
   "metadata": {
    "execution": {
     "iopub.execute_input": "2022-08-01T06:34:19.678886Z",
     "iopub.status.busy": "2022-08-01T06:34:19.678195Z",
     "iopub.status.idle": "2022-08-01T06:34:19.879302Z",
     "shell.execute_reply": "2022-08-01T06:34:19.877909Z"
    },
    "papermill": {
     "duration": 0.623467,
     "end_time": "2022-08-01T06:34:19.881969",
     "exception": false,
     "start_time": "2022-08-01T06:34:19.258502",
     "status": "completed"
    },
    "tags": []
   },
   "outputs": [
    {
     "name": "stdout",
     "output_type": "stream",
     "text": [
      "[1. 0. 0. 0. 0. 0. 0.]\n",
      "The person facial emotion is: Angry\n"
     ]
    }
   ],
   "source": [
    "test_image=test_image.reshape(1,48,48,1)\n",
    "classes=['Angry','Disgust','Fear','Happy','Neutral','Sad','Surprise']\n",
    "result=model.predict(test_image)\n",
    "print(result[0])\n",
    "y_pred=np.argmax(result[0])\n",
    "print('The person facial emotion is:',classes[y_pred])"
   ]
  },
  {
   "cell_type": "code",
   "execution_count": null,
   "metadata": {},
   "outputs": [],
   "source": []
  }
 ],
 "metadata": {
  "kernelspec": {
   "display_name": "Python 3 (ipykernel)",
   "language": "python",
   "name": "python3"
  },
  "language_info": {
   "codemirror_mode": {
    "name": "ipython",
    "version": 3
   },
   "file_extension": ".py",
   "mimetype": "text/x-python",
   "name": "python",
   "nbconvert_exporter": "python",
   "pygments_lexer": "ipython3",
   "version": "3.6.9"
  },
  "papermill": {
   "default_parameters": {},
   "duration": 2980.155583,
   "end_time": "2022-08-01T06:34:23.795355",
   "environment_variables": {},
   "exception": null,
   "input_path": "__notebook__.ipynb",
   "output_path": "__notebook__.ipynb",
   "parameters": {},
   "start_time": "2022-08-01T05:44:43.639772",
   "version": "2.3.4"
  }
 },
 "nbformat": 4,
 "nbformat_minor": 5
}

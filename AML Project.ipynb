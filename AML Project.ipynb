{
 "cells": [
  {
   "cell_type": "code",
   "execution_count": 1,
   "id": "ef12fdae",
   "metadata": {},
   "outputs": [
    {
     "name": "stderr",
     "output_type": "stream",
     "text": [
      "2023-04-20 19:13:29.996216: I tensorflow/core/platform/cpu_feature_guard.cc:193] This TensorFlow binary is optimized with oneAPI Deep Neural Network Library (oneDNN) to use the following CPU instructions in performance-critical operations:  AVX2 FMA\n",
      "To enable them in other operations, rebuild TensorFlow with the appropriate compiler flags.\n",
      "2023-04-20 19:13:35.289238: W tensorflow/compiler/xla/stream_executor/platform/default/dso_loader.cc:64] Could not load dynamic library 'libcudart.so.11.0'; dlerror: libcudart.so.11.0: cannot open shared object file: No such file or directory; LD_LIBRARY_PATH: /home/akhilesh/catkin_ws/devel/lib:/opt/ros/melodic/lib\n",
      "2023-04-20 19:13:35.289315: I tensorflow/compiler/xla/stream_executor/cuda/cudart_stub.cc:29] Ignore above cudart dlerror if you do not have a GPU set up on your machine.\n",
      "2023-04-20 19:13:46.033119: W tensorflow/compiler/xla/stream_executor/platform/default/dso_loader.cc:64] Could not load dynamic library 'libnvinfer.so.7'; dlerror: libnvinfer.so.7: cannot open shared object file: No such file or directory; LD_LIBRARY_PATH: /home/akhilesh/catkin_ws/devel/lib:/opt/ros/melodic/lib\n",
      "2023-04-20 19:13:46.033529: W tensorflow/compiler/xla/stream_executor/platform/default/dso_loader.cc:64] Could not load dynamic library 'libnvinfer_plugin.so.7'; dlerror: libnvinfer_plugin.so.7: cannot open shared object file: No such file or directory; LD_LIBRARY_PATH: /home/akhilesh/catkin_ws/devel/lib:/opt/ros/melodic/lib\n",
      "2023-04-20 19:13:46.033575: W tensorflow/compiler/tf2tensorrt/utils/py_utils.cc:38] TF-TRT Warning: Cannot dlopen some TensorRT libraries. If you would like to use Nvidia GPU with TensorRT, please make sure the missing libraries mentioned above are installed properly.\n"
     ]
    }
   ],
   "source": [
    "import numpy as np\n",
    "import pandas as pd\n",
    "import tensorflow as tf\n",
    "import matplotlib.pyplot as plt\n",
    "from tensorflow.keras import layers, models"
   ]
  },
  {
   "cell_type": "code",
   "execution_count": 2,
   "id": "c6d8c307",
   "metadata": {},
   "outputs": [],
   "source": [
    "df = pd.read_csv('fer2013/fer2013.csv')"
   ]
  },
  {
   "cell_type": "code",
   "execution_count": 3,
   "id": "a45db851",
   "metadata": {},
   "outputs": [
    {
     "data": {
      "text/html": [
       "<div>\n",
       "<style scoped>\n",
       "    .dataframe tbody tr th:only-of-type {\n",
       "        vertical-align: middle;\n",
       "    }\n",
       "\n",
       "    .dataframe tbody tr th {\n",
       "        vertical-align: top;\n",
       "    }\n",
       "\n",
       "    .dataframe thead th {\n",
       "        text-align: right;\n",
       "    }\n",
       "</style>\n",
       "<table border=\"1\" class=\"dataframe\">\n",
       "  <thead>\n",
       "    <tr style=\"text-align: right;\">\n",
       "      <th></th>\n",
       "      <th>emotion</th>\n",
       "      <th>pixels</th>\n",
       "      <th>Usage</th>\n",
       "    </tr>\n",
       "  </thead>\n",
       "  <tbody>\n",
       "    <tr>\n",
       "      <th>0</th>\n",
       "      <td>0</td>\n",
       "      <td>70 80 82 72 58 58 60 63 54 58 60 48 89 115 121...</td>\n",
       "      <td>Training</td>\n",
       "    </tr>\n",
       "    <tr>\n",
       "      <th>1</th>\n",
       "      <td>0</td>\n",
       "      <td>151 150 147 155 148 133 111 140 170 174 182 15...</td>\n",
       "      <td>Training</td>\n",
       "    </tr>\n",
       "    <tr>\n",
       "      <th>2</th>\n",
       "      <td>2</td>\n",
       "      <td>231 212 156 164 174 138 161 173 182 200 106 38...</td>\n",
       "      <td>Training</td>\n",
       "    </tr>\n",
       "    <tr>\n",
       "      <th>3</th>\n",
       "      <td>4</td>\n",
       "      <td>24 32 36 30 32 23 19 20 30 41 21 22 32 34 21 1...</td>\n",
       "      <td>Training</td>\n",
       "    </tr>\n",
       "    <tr>\n",
       "      <th>4</th>\n",
       "      <td>6</td>\n",
       "      <td>4 0 0 0 0 0 0 0 0 0 0 0 3 15 23 28 48 50 58 84...</td>\n",
       "      <td>Training</td>\n",
       "    </tr>\n",
       "    <tr>\n",
       "      <th>...</th>\n",
       "      <td>...</td>\n",
       "      <td>...</td>\n",
       "      <td>...</td>\n",
       "    </tr>\n",
       "    <tr>\n",
       "      <th>35882</th>\n",
       "      <td>6</td>\n",
       "      <td>50 36 17 22 23 29 33 39 34 37 37 37 39 43 48 5...</td>\n",
       "      <td>PrivateTest</td>\n",
       "    </tr>\n",
       "    <tr>\n",
       "      <th>35883</th>\n",
       "      <td>3</td>\n",
       "      <td>178 174 172 173 181 188 191 194 196 199 200 20...</td>\n",
       "      <td>PrivateTest</td>\n",
       "    </tr>\n",
       "    <tr>\n",
       "      <th>35884</th>\n",
       "      <td>0</td>\n",
       "      <td>17 17 16 23 28 22 19 17 25 26 20 24 31 19 27 9...</td>\n",
       "      <td>PrivateTest</td>\n",
       "    </tr>\n",
       "    <tr>\n",
       "      <th>35885</th>\n",
       "      <td>3</td>\n",
       "      <td>30 28 28 29 31 30 42 68 79 81 77 67 67 71 63 6...</td>\n",
       "      <td>PrivateTest</td>\n",
       "    </tr>\n",
       "    <tr>\n",
       "      <th>35886</th>\n",
       "      <td>2</td>\n",
       "      <td>19 13 14 12 13 16 21 33 50 57 71 84 97 108 122...</td>\n",
       "      <td>PrivateTest</td>\n",
       "    </tr>\n",
       "  </tbody>\n",
       "</table>\n",
       "<p>35887 rows × 3 columns</p>\n",
       "</div>"
      ],
      "text/plain": [
       "       emotion                                             pixels        Usage\n",
       "0            0  70 80 82 72 58 58 60 63 54 58 60 48 89 115 121...     Training\n",
       "1            0  151 150 147 155 148 133 111 140 170 174 182 15...     Training\n",
       "2            2  231 212 156 164 174 138 161 173 182 200 106 38...     Training\n",
       "3            4  24 32 36 30 32 23 19 20 30 41 21 22 32 34 21 1...     Training\n",
       "4            6  4 0 0 0 0 0 0 0 0 0 0 0 3 15 23 28 48 50 58 84...     Training\n",
       "...        ...                                                ...          ...\n",
       "35882        6  50 36 17 22 23 29 33 39 34 37 37 37 39 43 48 5...  PrivateTest\n",
       "35883        3  178 174 172 173 181 188 191 194 196 199 200 20...  PrivateTest\n",
       "35884        0  17 17 16 23 28 22 19 17 25 26 20 24 31 19 27 9...  PrivateTest\n",
       "35885        3  30 28 28 29 31 30 42 68 79 81 77 67 67 71 63 6...  PrivateTest\n",
       "35886        2  19 13 14 12 13 16 21 33 50 57 71 84 97 108 122...  PrivateTest\n",
       "\n",
       "[35887 rows x 3 columns]"
      ]
     },
     "execution_count": 3,
     "metadata": {},
     "output_type": "execute_result"
    }
   ],
   "source": [
    "df"
   ]
  },
  {
   "cell_type": "code",
   "execution_count": 4,
   "id": "f9326687",
   "metadata": {},
   "outputs": [
    {
     "data": {
      "text/plain": [
       "array([[ 70,  80,  82, ...,  52,  43,  41],\n",
       "       [ 65,  61,  58, ...,  56,  52,  44],\n",
       "       [ 50,  43,  54, ...,  49,  56,  47],\n",
       "       ...,\n",
       "       [ 91,  65,  42, ...,  72,  56,  43],\n",
       "       [ 77,  82,  79, ..., 105,  70,  46],\n",
       "       [ 77,  72,  84, ..., 106, 109,  82]])"
      ]
     },
     "execution_count": 4,
     "metadata": {},
     "output_type": "execute_result"
    }
   ],
   "source": [
    "img = df['pixels'][0]\n",
    "val = img.split(\" \")\n",
    "image = []\n",
    "for i in range(len(val)):\n",
    "    image.append(int(val[i]))\n",
    "final = np.array(image).reshape(48,48)\n",
    "final"
   ]
  },
  {
   "cell_type": "code",
   "execution_count": 5,
   "id": "b7227d9b",
   "metadata": {},
   "outputs": [
    {
     "data": {
      "text/plain": [
       "<matplotlib.image.AxesImage at 0x7f52b635d110>"
      ]
     },
     "execution_count": 5,
     "metadata": {},
     "output_type": "execute_result"
    },
    {
     "data": {
      "image/png": "[encoded data removed]",
      "text/plain": [
       "<Figure size 640x480 with 1 Axes>"
      ]
     },
     "metadata": {},
     "output_type": "display_data"
    }
   ],
   "source": [
    "plt.imshow(final,cmap='gray',interpolation = 'nearest')"
   ]
  },
  {
   "cell_type": "code",
   "execution_count": 6,
   "id": "332c2dfa",
   "metadata": {},
   "outputs": [
    {
     "data": {
      "text/plain": [
       "array([[[ 70,  80,  82, ...,  52,  43,  41],\n",
       "        [ 65,  61,  58, ...,  56,  52,  44],\n",
       "        [ 50,  43,  54, ...,  49,  56,  47],\n",
       "        ...,\n",
       "        [ 91,  65,  42, ...,  72,  56,  43],\n",
       "        [ 77,  82,  79, ..., 105,  70,  46],\n",
       "        [ 77,  72,  84, ..., 106, 109,  82]],\n",
       "\n",
       "       [[151, 150, 147, ..., 129, 140, 120],\n",
       "        [151, 149, 149, ..., 122, 141, 137],\n",
       "        [151, 151, 156, ..., 109, 123, 146],\n",
       "        ...,\n",
       "        [188, 188, 121, ..., 185, 185, 186],\n",
       "        [188, 187, 196, ..., 186, 182, 187],\n",
       "        [186, 184, 185, ..., 193, 183, 184]],\n",
       "\n",
       "       [[231, 212, 156, ...,  44,  27,  16],\n",
       "        [229, 175, 148, ...,  27,  35,  27],\n",
       "        [214, 156, 157, ...,  28,  22,  28],\n",
       "        ...,\n",
       "        [241, 245, 250, ...,  57, 101, 146],\n",
       "        [246, 250, 252, ...,  78, 105, 162],\n",
       "        [250, 251, 250, ...,  88, 110, 152]],\n",
       "\n",
       "       ...,\n",
       "\n",
       "       [[ 74,  81,  87, ..., 189, 191, 192],\n",
       "        [ 78,  82,  89, ..., 185, 189, 193],\n",
       "        [ 81,  86,  94, ..., 176, 185, 193],\n",
       "        ...,\n",
       "        [ 90,  99, 113, ..., 192, 195, 197],\n",
       "        [ 88,  96, 114, ..., 192, 194, 192],\n",
       "        [ 88,  97, 110, ..., 188, 187, 187]],\n",
       "\n",
       "       [[222, 227, 203, ..., 138, 132, 122],\n",
       "        [222, 226, 203, ..., 142, 136, 127],\n",
       "        [222, 225, 206, ..., 147, 143, 129],\n",
       "        ...,\n",
       "        [179, 180, 177, ..., 141, 139, 137],\n",
       "        [188, 182, 176, ..., 138, 136, 135],\n",
       "        [181, 168, 155, ..., 136, 136, 134]],\n",
       "\n",
       "       [[195, 199, 205, ..., 182, 140,  77],\n",
       "        [193, 196, 202, ..., 197, 165, 105],\n",
       "        [198, 200, 204, ..., 208, 196, 157],\n",
       "        ...,\n",
       "        [ 57,  73,  84, ...,   3,  20,  33],\n",
       "        [ 61,  73,  96, ...,   6,  19,  41],\n",
       "        [ 61,  79,  95, ...,   6,  15,  38]]])"
      ]
     },
     "execution_count": 6,
     "metadata": {},
     "output_type": "execute_result"
    }
   ],
   "source": [
    "x = df[df['Usage']=='Training']['pixels']\n",
    "# X_train_int = \n",
    "X_train = []\n",
    "for i in range(len(x)):\n",
    "    val = x[i].split(\" \")\n",
    "    X_train_int = []\n",
    "    for j in range(len(val)):\n",
    "        X_train_int.append(int(val[j]))\n",
    "    X_train.append(np.array(X_train_int).reshape(48,48))\n",
    "X_train = np.array(X_train)\n",
    "X_train"
   ]
  },
  {
   "cell_type": "code",
   "execution_count": 7,
   "id": "84d9613b",
   "metadata": {},
   "outputs": [
    {
     "data": {
      "text/plain": [
       "<matplotlib.image.AxesImage at 0x7f52b68a80d0>"
      ]
     },
     "execution_count": 7,
     "metadata": {},
     "output_type": "execute_result"
    },
    {
     "data": {
      "image/png": "[encoded data removed]",
      "text/plain": [
       "<Figure size 640x480 with 1 Axes>"
      ]
     },
     "metadata": {},
     "output_type": "display_data"
    }
   ],
   "source": [
    "plt.imshow(X_train[1],cmap = 'gray')"
   ]
  },
  {
   "cell_type": "code",
   "execution_count": 8,
   "id": "22efacac",
   "metadata": {},
   "outputs": [
    {
     "data": {
      "text/plain": [
       "array([[[254, 254, 254, ...,  16,   0, 161],\n",
       "        [254, 254, 254, ...,  17,   0, 122],\n",
       "        [254, 254, 254, ...,  26,   0, 114],\n",
       "        ...,\n",
       "        [ 66,  86,  99, ..., 255, 252, 254],\n",
       "        [ 84,  92,  92, ..., 236, 255, 255],\n",
       "        [ 93,  90,  85, ...,  42, 129, 180]],\n",
       "\n",
       "       [[156, 184, 198, ..., 157, 154, 150],\n",
       "        [146, 182, 199, ..., 161, 154, 150],\n",
       "        [135, 176, 195, ..., 165, 161, 155],\n",
       "        ...,\n",
       "        [ 28,  25,  21, ..., 179, 175, 173],\n",
       "        [ 29,  18,  22, ..., 177, 172, 169],\n",
       "        [ 21,  14,  23, ..., 172, 167, 161]],\n",
       "\n",
       "       [[ 69, 118,  61, ..., 118, 124, 144],\n",
       "        [ 66, 115,  57, ..., 129, 123, 131],\n",
       "        [ 64, 116,  61, ..., 136, 140, 136],\n",
       "        ...,\n",
       "        [114,  87, 136, ...,  98,  84,  86],\n",
       "        [114,  85, 140, ...,  89,  84,  88],\n",
       "        [114,  87, 145, ...,  88,  87,  90]],\n",
       "\n",
       "       ...,\n",
       "\n",
       "       [[255, 255, 255, ..., 255, 255, 255],\n",
       "        [255, 255, 255, ..., 255, 255, 255],\n",
       "        [255, 255, 255, ..., 255, 255, 255],\n",
       "        ...,\n",
       "        [232, 231, 218, ...,  45,  54,  76],\n",
       "        [230, 227, 217, ...,  55,  54,  50],\n",
       "        [228, 220, 207, ...,  48,  50,  46]],\n",
       "\n",
       "       [[ 33,  25,  31, ...,  32,  32,  28],\n",
       "        [ 44,  31,  35, ...,  32,  31,  25],\n",
       "        [ 23,  35,  37, ...,  27,  24,  21],\n",
       "        ...,\n",
       "        [  7,   5,   4, ...,   4,   4,   4],\n",
       "        [  4,   5,   4, ...,   4,   5,   4],\n",
       "        [  3,   4,   4, ...,   4,   5,   4]],\n",
       "\n",
       "       [[ 61,  63,  59, ...,  88,  81,  87],\n",
       "        [ 60,  63,  54, ...,  85,  83,  84],\n",
       "        [ 58,  65,  53, ...,  80,  91,  81],\n",
       "        ...,\n",
       "        [ 59,  60,  60, ..., 124, 120, 197],\n",
       "        [ 58,  60,  59, ..., 101, 152, 185],\n",
       "        [ 56,  58,  58, ..., 113, 165, 180]]])"
      ]
     },
     "execution_count": 8,
     "metadata": {},
     "output_type": "execute_result"
    }
   ],
   "source": [
    "x1=df[df['Usage']=='PublicTest']['pixels']\n",
    "# x1[28709]\n",
    "X_test = []\n",
    "for i in range(28709,28709+len(x1)):\n",
    "    val = x1[i].split(\" \")\n",
    "    X_test_int = []\n",
    "    for j in range(len(val)):\n",
    "        X_test_int.append(int(val[j]))\n",
    "    X_test.append(np.array(X_test_int).reshape(48,48))\n",
    "X_test = np.array(X_test)\n",
    "X_test"
   ]
  },
  {
   "cell_type": "code",
   "execution_count": 9,
   "id": "f5ad1155",
   "metadata": {},
   "outputs": [
    {
     "data": {
      "text/plain": [
       "<matplotlib.image.AxesImage at 0x7f52b3de1a90>"
      ]
     },
     "execution_count": 9,
     "metadata": {},
     "output_type": "execute_result"
    },
    {
     "data": {
      "image/png": "[encoded data removed]",
      "text/plain": [
       "<Figure size 640x480 with 1 Axes>"
      ]
     },
     "metadata": {},
     "output_type": "display_data"
    }
   ],
   "source": [
    "plt.imshow(X_test[0],cmap='gray',interpolation = 'nearest')"
   ]
  },
  {
   "cell_type": "code",
   "execution_count": 10,
   "id": "7e26639e",
   "metadata": {},
   "outputs": [
    {
     "data": {
      "text/plain": [
       "array([[0],\n",
       "       [0],\n",
       "       [2],\n",
       "       ...,\n",
       "       [4],\n",
       "       [0],\n",
       "       [4]])"
      ]
     },
     "execution_count": 10,
     "metadata": {},
     "output_type": "execute_result"
    }
   ],
   "source": [
    "y = df[df['Usage']=='Training']['emotion']\n",
    "Y_train  = [[] for i in range(len(y))]\n",
    "for i in range(len(y)):\n",
    "    Y_train[i].append(y[i])\n",
    "Y_train = np.array(Y_train)\n",
    "Y_train"
   ]
  },
  {
   "cell_type": "code",
   "execution_count": 11,
   "id": "61541073",
   "metadata": {},
   "outputs": [
    {
     "data": {
      "text/plain": [
       "array([[0],\n",
       "       [1],\n",
       "       [4],\n",
       "       ...,\n",
       "       [4],\n",
       "       [4],\n",
       "       [4]])"
      ]
     },
     "execution_count": 11,
     "metadata": {},
     "output_type": "execute_result"
    }
   ],
   "source": [
    "y1 = df[df['Usage']=='PublicTest']['emotion']\n",
    "y1[28709]\n",
    "\n",
    "Y_test  = [[] for i in range(len(y1))]\n",
    "for i in range(28709,28709+len(y1)):\n",
    "    Y_test[i-28709].append(y1[i])\n",
    "Y_test = np.array(Y_test)\n",
    "Y_test"
   ]
  },
  {
   "cell_type": "code",
   "execution_count": 12,
   "id": "ed385fe8",
   "metadata": {},
   "outputs": [
    {
     "name": "stderr",
     "output_type": "stream",
     "text": [
      "2023-04-20 19:14:39.050537: W tensorflow/compiler/xla/stream_executor/platform/default/dso_loader.cc:64] Could not load dynamic library 'libcuda.so.1'; dlerror: libcuda.so.1: cannot open shared object file: No such file or directory; LD_LIBRARY_PATH: /home/akhilesh/catkin_ws/devel/lib:/opt/ros/melodic/lib\n",
      "2023-04-20 19:14:39.058075: W tensorflow/compiler/xla/stream_executor/cuda/cuda_driver.cc:265] failed call to cuInit: UNKNOWN ERROR (303)\n",
      "2023-04-20 19:14:39.058205: I tensorflow/compiler/xla/stream_executor/cuda/cuda_diagnostics.cc:156] kernel driver does not appear to be running on this host (Akhilesh): /proc/driver/nvidia/version does not exist\n",
      "2023-04-20 19:14:39.070891: I tensorflow/core/platform/cpu_feature_guard.cc:193] This TensorFlow binary is optimized with oneAPI Deep Neural Network Library (oneDNN) to use the following CPU instructions in performance-critical operations:  AVX2 FMA\n",
      "To enable them in other operations, rebuild TensorFlow with the appropriate compiler flags.\n"
     ]
    }
   ],
   "source": [
    "model = models.Sequential([\n",
    "    layers.Rescaling(1/255,input_shape= (48,48,1)),\n",
    "    layers.Conv2D(512,(3,3),activation='relu'),\n",
    "    layers.MaxPooling2D((2,2)),\n",
    "    layers.Conv2D(256,(3,3),activation='relu'),\n",
    "    layers.MaxPooling2D((2,2)),\n",
    "    layers.Conv2D(64,(3,3),activation='relu'),\n",
    "    layers.MaxPooling2D((2,2)),\n",
    "    layers.Flatten(),\n",
    "    layers.Dense(16,activation = 'relu'),\n",
    "    layers.Dense(7)\n",
    "])"
   ]
  },
  {
   "cell_type": "code",
   "execution_count": 13,
   "id": "8daa97f8",
   "metadata": {},
   "outputs": [
    {
     "name": "stdout",
     "output_type": "stream",
     "text": [
      "Model: \"sequential\"\n",
      "_________________________________________________________________\n",
      " Layer (type)                Output Shape              Param #   \n",
      "=================================================================\n",
      " rescaling (Rescaling)       (None, 48, 48, 1)         0         \n",
      "                                                                 \n",
      " conv2d (Conv2D)             (None, 46, 46, 512)       5120      \n",
      "                                                                 \n",
      " max_pooling2d (MaxPooling2D  (None, 23, 23, 512)      0         \n",
      " )                                                               \n",
      "                                                                 \n",
      " conv2d_1 (Conv2D)           (None, 21, 21, 256)       1179904   \n",
      "                                                                 \n",
      " max_pooling2d_1 (MaxPooling  (None, 10, 10, 256)      0         \n",
      " 2D)                                                             \n",
      "                                                                 \n",
      " conv2d_2 (Conv2D)           (None, 8, 8, 64)          147520    \n",
      "                                                                 \n",
      " max_pooling2d_2 (MaxPooling  (None, 4, 4, 64)         0         \n",
      " 2D)                                                             \n",
      "                                                                 \n",
      " flatten (Flatten)           (None, 1024)              0         \n",
      "                                                                 \n",
      " dense (Dense)               (None, 16)                16400     \n",
      "                                                                 \n",
      " dense_1 (Dense)             (None, 7)                 119       \n",
      "                                                                 \n",
      "=================================================================\n",
      "Total params: 1,349,063\n",
      "Trainable params: 1,349,063\n",
      "Non-trainable params: 0\n",
      "_________________________________________________________________\n"
     ]
    }
   ],
   "source": [
    "model.summary()"
   ]
  },
  {
   "cell_type": "code",
   "execution_count": 14,
   "id": "438c21a2",
   "metadata": {},
   "outputs": [],
   "source": [
    "model.compile(optimizer='adam',\n",
    "             loss=tf.keras.losses.SparseCategoricalCrossentropy(),\n",
    "             metrics=['accuracy'])"
   ]
  },
  {
   "cell_type": "code",
   "execution_count": 15,
   "id": "f138c56e",
   "metadata": {},
   "outputs": [
    {
     "name": "stdout",
     "output_type": "stream",
     "text": [
      "Epoch 1/5\n",
      "898/898 [==============================] - 1163s 1s/step - loss: 3.8339 - accuracy: 0.1719 - val_loss: 1.9459 - val_accuracy: 0.1691\n",
      "Epoch 2/5\n",
      "898/898 [==============================] - 1420s 2s/step - loss: 1.9459 - accuracy: 0.1729 - val_loss: 1.9459 - val_accuracy: 0.1691\n",
      "Epoch 3/5\n",
      "898/898 [==============================] - 1149s 1s/step - loss: 1.9459 - accuracy: 0.1729 - val_loss: 1.9459 - val_accuracy: 0.1691\n",
      "Epoch 4/5\n",
      "898/898 [==============================] - 1149s 1s/step - loss: 1.9459 - accuracy: 0.1729 - val_loss: 1.9459 - val_accuracy: 0.1691\n",
      "Epoch 5/5\n",
      "898/898 [==============================] - 1166s 1s/step - loss: 1.9459 - accuracy: 0.1729 - val_loss: 1.9459 - val_accuracy: 0.1691\n"
     ]
    }
   ],
   "source": [
    "out = model.fit(X_train,Y_train,validation_data=(X_test,Y_test),batch_size = 32,epochs=5)"
   ]
  },
  {
   "cell_type": "code",
   "execution_count": null,
   "id": "a7a78d55",
   "metadata": {},
   "outputs": [],
   "source": []
  }
 ],
 "metadata": {
  "kernelspec": {
   "display_name": "Python 3 (ipykernel)",
   "language": "python",
   "name": "python3"
  },
  "language_info": {
   "codemirror_mode": {
    "name": "ipython",
    "version": 3
   },
   "file_extension": ".py",
   "mimetype": "text/x-python",
   "name": "python",
   "nbconvert_exporter": "python",
   "pygments_lexer": "ipython3",
   "version": "3.7.16"
  }
 },
 "nbformat": 4,
 "nbformat_minor": 5
}
